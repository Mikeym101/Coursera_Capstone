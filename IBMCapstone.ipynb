{
 "cells": [
  {
   "cell_type": "markdown",
   "metadata": {},
   "source": [
    "# The Battle of the Neighborhoods\n",
    "\n",
    "### Applied Data Science Capstone Project - Mike Mander"
   ]
  },
  {
   "cell_type": "markdown",
   "metadata": {},
   "source": [
    "## Table of contents\n",
    "* [Introduction](#introduction)\n",
    "* [Data](#data)"
   ]
  },
  {
   "cell_type": "markdown",
   "metadata": {},
   "source": [
    "## Introduction <a name=\"introduction\"></a>"
   ]
  },
  {
   "cell_type": "markdown",
   "metadata": {},
   "source": [
    "Moving to a new place to for a job is hard, having to relocate with a young family creates additional concerns and considerations that have to be factored in. Choosing where to live when you arrive in a new place is one of the most important decisions, and usually you know little to nothing about the city, services, transportation, demographics etc. Making a bad choice at this stage can result in long commutes, resentment about the job and an unhappy social/family life. I will seek to utilise publicly available data and data science skills to attempt to answer the question, Where is the best location for me and my family to live?\n",
    "\n",
    "My project will assume a hypothetical scenario where a family with young children are moving to Singapore for one parent to start a new job at the IBM office. They have been given a housing allowance, and a salary with some leeway to spend additional money for the right place, if required. \n",
    "\n",
    "This is a typical scenario for many expats and so I think that any international company's HR department and new expat employees themselves will be interested in the analytical process and the results. The scenario I am going to resolve for is one of a few potential options, and so I will suggest, during the data analysis, where choices can be made that would suit expats in slightly different situations. \n"
   ]
  },
  {
   "cell_type": "markdown",
   "metadata": {},
   "source": [
    "## Data <a name=\"data\"></a>"
   ]
  },
  {
   "cell_type": "markdown",
   "metadata": {},
   "source": [
    "Singapore has a wealth of publicly available government data on their website https://data.gov.sg. I have mined this to get the geoJSON data for their neighbourhoods, or planning areas as they call them. This splits Singapore into 55 areas, and I will use a library called <a href=\"https://pypi.org/project/Shapely/\">Shapely</a> to find the centroid location coordinates of each area. From those I will utilise the <a href=\"https://foursquare.com\">FourSquare</a> API to search for venues within each area that are related to children, kids and babies. In the <a href=\"https://developer.foursquare.com/docs/resources/categories\">Developer Categories list</a> I have found many venue types that are related to or would be of interest to parents with young children, including playgrounds, parks, baby shops etc. The full list of IDs will be described in the methodology later. \n",
    "\n",
    "The government website also has a few other datasets that I will be using for the analysis. There is a table containing all the schools in the Singapore area and the age groups that they cater for, as well as a separate table with the locations of all the schools, I will have to clean up the data in each table and then join the tables together to get the results in the format that I want. I have decided to use this as I want to give the best coverage of pre-schools/nurseries and I am not sure if FourSquare will have all the schools listed. \n",
    "\n",
    "Shown below are the column headers of the data set for the schools listing:"
   ]
  },
  {
   "cell_type": "code",
   "execution_count": 17,
   "metadata": {},
   "outputs": [
    {
     "data": {
      "text/plain": [
       "tp_code                     object\n",
       "centre_code                 object\n",
       "centre_name                 object\n",
       "organisation_code           object\n",
       "organisation_description    object\n",
       "service_model               object\n",
       "centre_contact_no           object\n",
       "centre_email_address        object\n",
       "centre_address              object\n",
       "postal_code                  int64\n",
       "centre_website              object\n",
       "infant_vacancy              object\n",
       "pg_vacancy                  object\n",
       "n1_vacancy                  object\n",
       "n2_vacancy                  object\n",
       "k1_vacancy                  object\n",
       "k2_vacancy                  object\n",
       "food_offered                object\n",
       "second_languages_offered    object\n",
       "spark_certified             object\n",
       "weekday_full_day            object\n",
       "saturday                    object\n",
       "scheme_type                 object\n",
       "extended_operating_hours    object\n",
       "provision_of_transport      object\n",
       "government_subsidy          object\n",
       "gst_regisration             object\n",
       "last_updated                object\n",
       "remarks                     object\n",
       "dtype: object"
      ]
     },
     "execution_count": 17,
     "metadata": {},
     "output_type": "execute_result"
    }
   ],
   "source": [
    "import pandas as pd\n",
    "\n",
    "df_school_locs = pd.read_csv('Data/listing-of-centre.csv')\n",
    "df_school_locs.dtypes"
   ]
  },
  {
   "cell_type": "markdown",
   "metadata": {},
   "source": [
    "I will be using the centre address from this data set and reverse geocoding the location coordinates, then joining with the school service listing based on the centre code to filter the offerings to pre-school and nursery only. \n",
    "\n",
    "The first 5 rows of the schools service listing is shown below:"
   ]
  },
  {
   "cell_type": "code",
   "execution_count": 18,
   "metadata": {},
   "outputs": [
    {
     "data": {
      "text/html": [
       "<div>\n",
       "<style scoped>\n",
       "    .dataframe tbody tr th:only-of-type {\n",
       "        vertical-align: middle;\n",
       "    }\n",
       "\n",
       "    .dataframe tbody tr th {\n",
       "        vertical-align: top;\n",
       "    }\n",
       "\n",
       "    .dataframe thead th {\n",
       "        text-align: right;\n",
       "    }\n",
       "</style>\n",
       "<table border=\"1\" class=\"dataframe\">\n",
       "  <thead>\n",
       "    <tr style=\"text-align: right;\">\n",
       "      <th></th>\n",
       "      <th>centre_code</th>\n",
       "      <th>centre_name</th>\n",
       "      <th>class_of_licence</th>\n",
       "      <th>type_of_service</th>\n",
       "      <th>levels_offered</th>\n",
       "      <th>fees</th>\n",
       "      <th>type_of_citizenship</th>\n",
       "      <th>last_updated</th>\n",
       "      <th>remarks</th>\n",
       "    </tr>\n",
       "  </thead>\n",
       "  <tbody>\n",
       "    <tr>\n",
       "      <th>0</th>\n",
       "      <td>EB0001</td>\n",
       "      <td>E-BRIDGE PRE-SCHOOL PTE. LTD.</td>\n",
       "      <td>Class B (Child Care)</td>\n",
       "      <td>Full Day</td>\n",
       "      <td>Kindergarten 1 (5 yrs old)</td>\n",
       "      <td>1080.0</td>\n",
       "      <td>Others</td>\n",
       "      <td>2019-01-04</td>\n",
       "      <td>na</td>\n",
       "    </tr>\n",
       "    <tr>\n",
       "      <th>1</th>\n",
       "      <td>EB0001</td>\n",
       "      <td>E-BRIDGE PRE-SCHOOL PTE. LTD.</td>\n",
       "      <td>Class B (Child Care)</td>\n",
       "      <td>Full Day</td>\n",
       "      <td>Kindergarten 1 (5 yrs old)</td>\n",
       "      <td>720.0</td>\n",
       "      <td>SC</td>\n",
       "      <td>2019-01-04</td>\n",
       "      <td>na</td>\n",
       "    </tr>\n",
       "    <tr>\n",
       "      <th>2</th>\n",
       "      <td>EB0001</td>\n",
       "      <td>E-BRIDGE PRE-SCHOOL PTE. LTD.</td>\n",
       "      <td>Class B (Child Care)</td>\n",
       "      <td>Full Day</td>\n",
       "      <td>Kindergarten 1 (5 yrs old)</td>\n",
       "      <td>900.0</td>\n",
       "      <td>SPR</td>\n",
       "      <td>2019-01-04</td>\n",
       "      <td>na</td>\n",
       "    </tr>\n",
       "    <tr>\n",
       "      <th>3</th>\n",
       "      <td>EB0001</td>\n",
       "      <td>E-BRIDGE PRE-SCHOOL PTE. LTD.</td>\n",
       "      <td>Class B (Child Care)</td>\n",
       "      <td>Full Day</td>\n",
       "      <td>Kindergarten 2 (6 yrs old)</td>\n",
       "      <td>1080.0</td>\n",
       "      <td>Others</td>\n",
       "      <td>2019-01-04</td>\n",
       "      <td>na</td>\n",
       "    </tr>\n",
       "    <tr>\n",
       "      <th>4</th>\n",
       "      <td>EB0001</td>\n",
       "      <td>E-BRIDGE PRE-SCHOOL PTE. LTD.</td>\n",
       "      <td>Class B (Child Care)</td>\n",
       "      <td>Full Day</td>\n",
       "      <td>Kindergarten 2 (6 yrs old)</td>\n",
       "      <td>720.0</td>\n",
       "      <td>SC</td>\n",
       "      <td>2019-01-04</td>\n",
       "      <td>na</td>\n",
       "    </tr>\n",
       "  </tbody>\n",
       "</table>\n",
       "</div>"
      ],
      "text/plain": [
       "  centre_code                    centre_name      class_of_licence  \\\n",
       "0      EB0001  E-BRIDGE PRE-SCHOOL PTE. LTD.  Class B (Child Care)   \n",
       "1      EB0001  E-BRIDGE PRE-SCHOOL PTE. LTD.  Class B (Child Care)   \n",
       "2      EB0001  E-BRIDGE PRE-SCHOOL PTE. LTD.  Class B (Child Care)   \n",
       "3      EB0001  E-BRIDGE PRE-SCHOOL PTE. LTD.  Class B (Child Care)   \n",
       "4      EB0001  E-BRIDGE PRE-SCHOOL PTE. LTD.  Class B (Child Care)   \n",
       "\n",
       "  type_of_service              levels_offered    fees type_of_citizenship  \\\n",
       "0        Full Day  Kindergarten 1 (5 yrs old)  1080.0              Others   \n",
       "1        Full Day  Kindergarten 1 (5 yrs old)   720.0                  SC   \n",
       "2        Full Day  Kindergarten 1 (5 yrs old)   900.0                 SPR   \n",
       "3        Full Day  Kindergarten 2 (6 yrs old)  1080.0              Others   \n",
       "4        Full Day  Kindergarten 2 (6 yrs old)   720.0                  SC   \n",
       "\n",
       "  last_updated remarks  \n",
       "0   2019-01-04      na  \n",
       "1   2019-01-04      na  \n",
       "2   2019-01-04      na  \n",
       "3   2019-01-04      na  \n",
       "4   2019-01-04      na  "
      ]
     },
     "execution_count": 18,
     "metadata": {},
     "output_type": "execute_result"
    }
   ],
   "source": [
    "df_school_serv = pd.read_csv('Data/listing-of-services.csv')\n",
    "df_school_serv.head()"
   ]
  },
  {
   "cell_type": "markdown",
   "metadata": {},
   "source": [
    "Another data set I will seek to feature is the locations of the MRT stations around Singapore and the fare costs. Public transport is very efficient in Singapore and coupled with the very high costs associated with owning a vehicle living within close proximity to an MRT station will be beneficial. I will have to decide how to weigh the proximity to an MRT station against better locations for children that might be further away. Based on the location of IBM office in Singapore, and the best location for the family to live, commute times and fare costs might have to come into consideration. These distances and fare costs are another public data set. \n",
    "\n",
    "The final data set that I will be using is for an indicative look at the cost of renting, it contains the median rent by area and flat type per quarter from Q2-2005 to Q4 -2018. This data can be interrogated and cleaned to show the prospective expat the expected required budget for the chosen areas as that could potentially influence the decision on where to live. "
   ]
  }
 ],
 "metadata": {
  "kernelspec": {
   "display_name": "Python 3",
   "language": "python",
   "name": "python3"
  },
  "language_info": {
   "codemirror_mode": {
    "name": "ipython",
    "version": 3
   },
   "file_extension": ".py",
   "mimetype": "text/x-python",
   "name": "python",
   "nbconvert_exporter": "python",
   "pygments_lexer": "ipython3",
   "version": "3.6.8"
  }
 },
 "nbformat": 4,
 "nbformat_minor": 2
}
